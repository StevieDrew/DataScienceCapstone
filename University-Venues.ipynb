{
 "cells": [
  {
   "cell_type": "markdown",
   "metadata": {},
   "source": [
    "# Introduction/Business Problem"
   ]
  },
  {
   "cell_type": "markdown",
   "metadata": {},
   "source": [
    "## Does a universities local venues play a roll in its students' success?\n",
    "With the abundance of universities in the US, each university varies with size, audience, and success rates of their students. Some colleges are small and cater to their local students attending in-state. Other universities are massive with a  large variety of students from all around the world. What drives students to want to attend these massive universities? Some may argue this to be the student success rates, while others just look for programs catered to what they would be interested in studying and eventually pursuing in the workforce. However, what some may not consider is how a student actually feels living in the area of that university depending on its available venues nearby. For example, a student considering an out-of-state college experience may wish to attend a university that has a variety of local venues for the student to visit and explore during their experience, while an in-state student (or one that lives locally) may not mind as they already live there. Could the variety in nearby venues drive a university to have more successful students, considering the majority of their students are attending on out-of-state tuition? We will explore this question further."
   ]
  },
  {
   "cell_type": "markdown",
   "metadata": {},
   "source": [
    "# Data"
   ]
  },
  {
   "cell_type": "markdown",
   "metadata": {},
   "source": [
    "\n",
    "We have retrieved a dataset from <a href=\"https://www.kaggle.com/sumithbhongale/american-university-data-ipeds-dataset\">Kaggle.com</a> giving the locations of different universities, with various statistics from the year 2013. Particularly, we will be looking at universities with a majority of out-of-state students and how the university performs using graduation statistics, as well as pre-college test scores. We will be comparing this to the variety of nearby venues, as well as what nearby venues correlate with a high success rate in the classroom."
   ]
  },
  {
   "cell_type": "code",
   "execution_count": null,
   "metadata": {},
   "outputs": [],
   "source": []
  }
 ],
 "metadata": {
  "kernelspec": {
   "display_name": "Python 3",
   "language": "python",
   "name": "python3"
  },
  "language_info": {
   "codemirror_mode": {
    "name": "ipython",
    "version": 3
   },
   "file_extension": ".py",
   "mimetype": "text/x-python",
   "name": "python",
   "nbconvert_exporter": "python",
   "pygments_lexer": "ipython3",
   "version": "3.7.3"
  }
 },
 "nbformat": 4,
 "nbformat_minor": 2
}
